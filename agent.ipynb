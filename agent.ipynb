{
 "cells": [
  {
   "cell_type": "code",
   "execution_count": 1,
   "metadata": {},
   "outputs": [],
   "source": [
    "%reload_ext autoreload\n",
    "%autoreload 2\n",
    "\n",
    "import warnings\n",
    "warnings.filterwarnings(\"ignore\")"
   ]
  },
  {
   "cell_type": "code",
   "execution_count": 2,
   "metadata": {},
   "outputs": [],
   "source": [
    "import json\n",
    "import pandas as pd\n",
    "from gigasmol import GigaChatSmolModel\n",
    "from smolagents import CodeAgent, ToolCallingAgent, Tool, UserInputTool"
   ]
  },
  {
   "cell_type": "markdown",
   "metadata": {},
   "source": [
    "### Ключи api для доступа к GigaChat, сервисам погоды и курсом валют\n",
    "\n",
    "Заполните в файле `credentials.json` соответствующие значения токенов. \n",
    "\n",
    "* https://www.exchangerate-api.com — сайт для получения актуальных курсов валют (получаем `currency_api_key`)\n",
    "* https://openweathermap.org/api — сайт для получения актуальной информации о погоде (получаем `weather_api_key`)"
   ]
  },
  {
   "cell_type": "code",
   "execution_count": 3,
   "metadata": {},
   "outputs": [],
   "source": [
    "credentials = json.load(open('credentials.json', 'r'))"
   ]
  },
  {
   "cell_type": "markdown",
   "metadata": {},
   "source": [
    "### Инициализация базовой модели"
   ]
  },
  {
   "cell_type": "code",
   "execution_count": 4,
   "metadata": {},
   "outputs": [],
   "source": [
    "model = GigaChatSmolModel(\n",
    "    auth_data=credentials['gigachat_authorization_key'],\n",
    "    client_id=credentials['gigachat_client_id'],\n",
    "    model_name=\"GigaChat-2-Max\",\n",
    "    temperature=0.1,\n",
    "    top_p=0.9,\n",
    "    repetition_penalty=1.1,\n",
    "    max_tokens=64000\n",
    ")"
   ]
  },
  {
   "cell_type": "markdown",
   "metadata": {},
   "source": [
    "### Инициализация календаря и почтового клиента\n",
    "\n",
    "Используйте примеры или попробуйте инициализировать что-то свое (используйте `Mailbox` и `Calendar`)"
   ]
  },
  {
   "cell_type": "code",
   "execution_count": 5,
   "metadata": {},
   "outputs": [],
   "source": [
    "from tools.mail_tools import Mailbox\n",
    "from tools.calendar_tools import Calendar\n",
    "\n",
    "from examples.mailbox_example import MAILBOX_EXAMPLE\n",
    "from examples.calendar_example import CALENDAR_EXAMPLE"
   ]
  },
  {
   "cell_type": "code",
   "execution_count": 6,
   "metadata": {},
   "outputs": [],
   "source": [
    "calendar = CALENDAR_EXAMPLE\n",
    "mailbox = MAILBOX_EXAMPLE"
   ]
  },
  {
   "cell_type": "code",
   "execution_count": null,
   "metadata": {},
   "outputs": [],
   "source": [
    "calendar.list_meetings()"
   ]
  },
  {
   "cell_type": "code",
   "execution_count": null,
   "metadata": {},
   "outputs": [],
   "source": [
    "pd.DataFrame(mailbox.list_threads_with_subjects())"
   ]
  },
  {
   "cell_type": "code",
   "execution_count": null,
   "metadata": {},
   "outputs": [],
   "source": [
    "print(mailbox.get_thread_emails_as_string(\"new_interface\")[0])"
   ]
  },
  {
   "cell_type": "markdown",
   "metadata": {},
   "source": [
    "### Инициализация агентов"
   ]
  },
  {
   "cell_type": "code",
   "execution_count": 10,
   "metadata": {},
   "outputs": [],
   "source": [
    "from tools.mail_tools import MailToolset\n",
    "from tools.calendar_tools import CalendarToolset\n",
    "from tools.basic_tools import CurrencyConversionTool, WeatherTool, TimeTool\n",
    "from tools.utils import GigaChatFinalAnswerTool\n",
    "\n",
    "from prompts import GIGACHAT_AGENT_SYSTEM_PROMPT"
   ]
  },
  {
   "cell_type": "code",
   "execution_count": 11,
   "metadata": {},
   "outputs": [],
   "source": [
    "agent = CodeAgent(\n",
    "    tools=[\n",
    "        CurrencyConversionTool(credentials['currency_api_key']),\n",
    "        WeatherTool(credentials['weather_api_key']),\n",
    "        TimeTool()] +\n",
    "        MailToolset(mailbox, model).tools +\n",
    "        CalendarToolset(calendar).get_tools(),\n",
    "    additional_authorized_imports=[\"datetime\"],\n",
    "    model=model\n",
    ")\n",
    "\n",
    "agent.tools['final_answer'] = GigaChatFinalAnswerTool()\n",
    "agent.system_prompt = GIGACHAT_AGENT_SYSTEM_PROMPT"
   ]
  },
  {
   "cell_type": "markdown",
   "metadata": {},
   "source": [
    "### Интерфейс агента"
   ]
  },
  {
   "cell_type": "code",
   "execution_count": 12,
   "metadata": {},
   "outputs": [],
   "source": [
    "from ui.agent_ui import GradioUI"
   ]
  },
  {
   "cell_type": "code",
   "execution_count": 13,
   "metadata": {},
   "outputs": [],
   "source": [
    "# # Можно вести диалог с агентом из jupyter notebook или через интерфейс\n",
    "# agent.run('Какая погода в спб, нск и москве?', reset=False)"
   ]
  },
  {
   "cell_type": "code",
   "execution_count": 14,
   "metadata": {},
   "outputs": [
    {
     "name": "stdout",
     "output_type": "stream",
     "text": [
      "Keyboard interruption in main thread... closing server.\n",
      "Killing tunnel 127.0.0.1:7860 <> https://671a0d328f045c5f6f.gradio.live\n"
     ]
    }
   ],
   "source": [
    "# hide_steps=True — скрывает шаги в интерфейсе, но выводит их ниже в jupyter notebook \n",
    "GradioUI(agent, mailbox, calendar, hide_steps=False).launch() "
   ]
  }
 ],
 "metadata": {
  "kernelspec": {
   "display_name": "Python 3",
   "language": "python",
   "name": "python3"
  },
  "language_info": {
   "codemirror_mode": {
    "name": "ipython",
    "version": 3
   },
   "file_extension": ".py",
   "mimetype": "text/x-python",
   "name": "python",
   "nbconvert_exporter": "python",
   "pygments_lexer": "ipython3",
   "version": "3.12.3"
  }
 },
 "nbformat": 4,
 "nbformat_minor": 2
}
